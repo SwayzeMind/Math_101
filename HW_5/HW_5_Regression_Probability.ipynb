{
 "cells": [
  {
   "cell_type": "code",
   "execution_count": 19,
   "metadata": {},
   "outputs": [],
   "source": [
    "import warnings\n",
    "warnings.filterwarnings('ignore')\n",
    "\n",
    "import numpy as np, math\n",
    "import matplotlib.pyplot as plt\n",
    "import itertools\n",
    "\n"
   ]
  },
  {
   "cell_type": "markdown",
   "metadata": {},
   "source": [
    "## 1. \n",
    "### Напишите код, моделирующий выпадение поля в рулетке (с учетом поля зеро)"
   ]
  },
  {
   "cell_type": "code",
   "execution_count": 20,
   "metadata": {},
   "outputs": [
    {
     "name": "stdout",
     "output_type": "stream",
     "text": [
      "type in a digit from 0 to 36: 2\n",
      "--------------------------------------------------\n",
      "32\n",
      "type in a digit from 0 to 36: 3\n",
      "--------------------------------------------------\n",
      "6\n"
     ]
    }
   ],
   "source": [
    "for i in range (0,2):\n",
    "    a = int(input(\"type in a digit from 0 to 36: \"))\n",
    "    if a > 36: \n",
    "        print('You are out of range')\n",
    "        break\n",
    "    x = int(np.random.uniform(0,36))\n",
    "    print(('-')*50)\n",
    "    print(x)"
   ]
  },
  {
   "cell_type": "markdown",
   "metadata": {},
   "source": [
    "## 2.                                                                                                                        \n",
    "\n",
    "### 1.) Напишите код, проверяющий любую из теорем сложения или умножения вероятности на примере рулетки или подбрасывания монетки."
   ]
  },
  {
   "cell_type": "markdown",
   "metadata": {},
   "source": [
    "Проверим, что для противоположных событий p(A) + p(B) = 1.\n",
    "Подбросим монетку n раз (пусть 1 - орел и 0 - решка) и посчитаем сколько раз выпал орел (k раз). После этого посчитаем вероятности выпадения орла и решки (p1 и p2 соответственно) как количество выпадений орла (k) и решки (n-k) на этой дистанции к общему количетву испытаний (n). Согласно теореме сумма этих вероятностей должна равняться 1.\n",
    "\n",
    "Прим.: метод count для подсчета количества вхождений элемента в массив не работает с типом numpy.ndarray, возвращаемым np.random.randint. Поэтому преобразуем numpy.ndarray в list\n",
    "\n",
    "count(1) количество успехов"
   ]
  },
  {
   "cell_type": "code",
   "execution_count": 21,
   "metadata": {},
   "outputs": [
    {
     "name": "stdout",
     "output_type": "stream",
     "text": [
      " вероятности  \n",
      " орлы p1:  0.47 \n",
      " рещки p2: 0.53 \n",
      " \n",
      " p1 + p2 =  1.0\n"
     ]
    }
   ],
   "source": [
    "n = 100\n",
    "k = list(np.random.randint(0,2,n)).count(1)\n",
    "p1 = k / n            #кол орлов/total\n",
    "p2 = (n-k) / n        #кол решек/total\n",
    "\n",
    "print(f' вероятности  \\n орлы p1:  {round(p1,2)} \\n рещки p2: {round(p2,2)} \\n \\n p1 + p2 =  {p1 + p2}')\n",
    " \n",
    "#count(1) количество орлов в массиве"
   ]
  },
  {
   "cell_type": "markdown",
   "metadata": {},
   "source": [
    "2) Сгенерируйте десять выборок случайных чисел х0, …, х9. и постройте гистограмму распределения случайной суммы х0+х1+ …+ х9."
   ]
  },
  {
   "cell_type": "code",
   "execution_count": 22,
   "metadata": {},
   "outputs": [
    {
     "name": "stdout",
     "output_type": "stream",
     "text": [
      "[44 48 38 47 35 35 26 43 35 54]\n"
     ]
    }
   ],
   "source": [
    "x = []  # список выборок\n",
    "sum = [] # сумма эелементов из каждой выборки\n",
    "\n",
    "for i in range(0,10):\n",
    "    sum.append(0)\n",
    "    x.append(np.random.randint(0,9,10))\n",
    "\n",
    "#print(x)\n",
    "sum = x[0]+x[1]+x[2]+x[3]+x[4]+x[5]+x[6]+x[7]+x[8]+x[9]\n",
    "print (sum)"
   ]
  },
  {
   "cell_type": "code",
   "execution_count": 23,
   "metadata": {},
   "outputs": [
    {
     "data": {
      "image/png": "[encoded data removed]",
      "text/plain": [
       "<Figure size 432x288 with 1 Axes>"
      ]
     },
     "metadata": {
      "needs_background": "light"
     },
     "output_type": "display_data"
    }
   ],
   "source": [
    "num_bins = 7\n",
    "\n",
    "n, bins, patches = plt.hist(sum, num_bins)\n",
    "plt.xlabel('sum')\n",
    "plt.ylabel('count')\n",
    "plt.grid()"
   ]
  },
  {
   "cell_type": "markdown",
   "metadata": {},
   "source": [
    "## 3.\n",
    "### 1) Дополните код Монте-Карло последовательности независимых испытаний расчетом соответствующих вероятностей (через биномиальное распределение) и сравните результаты.\n",
    "\n",
    "Сколько получается по коду из видео:"
   ]
  },
  {
   "cell_type": "code",
   "execution_count": 24,
   "metadata": {},
   "outputs": [
    {
     "name": "stdout",
     "output_type": "stream",
     "text": [
      "Вероятность Monte Carlo:  0.3742\n"
     ]
    }
   ],
   "source": [
    "k, n = 0, 10000\n",
    "a = np.random.randint(0, 2, n)\n",
    "b = np.random.randint(0, 2, n)\n",
    "c = np.random.randint(0, 2, n)\n",
    "d = np.random.randint(0, 2, n)\n",
    "x = a + b + c + d\n",
    "for i in range(n):\n",
    "    if x[i] == 2:\n",
    "        k = k + 1\n",
    "print('Вероятность Monte Carlo: ',k / n)"
   ]
  },
  {
   "cell_type": "markdown",
   "metadata": {},
   "source": [
    "math.factorial = The factorial function (symbol: !) says to multiply all whole numbers from our chosen number down to 1."
   ]
  },
  {
   "cell_type": "code",
   "execution_count": 25,
   "metadata": {},
   "outputs": [],
   "source": [
    "def Bernoulli(n,k):\n",
    "    C_n_k = np.math.factorial(n)/(np.math.factorial(k)*np.math.factorial(n-k))\n",
    "    P_n_k = C_n_k / pow(2,n)\n",
    "    print ('Вероятность Бернулли: ', P_n_k)\n",
    "    return P_n_k\n",
    "    "
   ]
  },
  {
   "cell_type": "code",
   "execution_count": 26,
   "metadata": {},
   "outputs": [
    {
     "name": "stdout",
     "output_type": "stream",
     "text": [
      "Вероятность Бернулли:  0.375\n"
     ]
    },
    {
     "data": {
      "text/plain": [
       "0.375"
      ]
     },
     "execution_count": 26,
     "metadata": {},
     "output_type": "execute_result"
    }
   ],
   "source": [
    "Bernoulli(4,2)"
   ]
  },
  {
   "cell_type": "markdown",
   "metadata": {},
   "source": [
    "2) Повторите расчеты биномиальных коэффициентов и вероятностей k успехов в последовательности из n независимых испытаний, взяв другие значения n и k."
   ]
  },
  {
   "cell_type": "code",
   "execution_count": 27,
   "metadata": {},
   "outputs": [
    {
     "name": "stdout",
     "output_type": "stream",
     "text": [
      "Вероятность Бернулли:  0.25\n",
      "Вероятность Бернулли:  0.1171875\n"
     ]
    },
    {
     "data": {
      "text/plain": [
       "(0.25, 0.1171875)"
      ]
     },
     "execution_count": 27,
     "metadata": {},
     "output_type": "execute_result"
    }
   ],
   "source": [
    "Bernoulli(4,3), Bernoulli(10,3) # почему не работает"
   ]
  },
  {
   "cell_type": "markdown",
   "metadata": {},
   "source": [
    "### 4. Из урока по комбинаторике повторите расчеты, сгенерировав возможные варианты перестановок для других значений n и k"
   ]
  },
  {
   "cell_type": "code",
   "execution_count": 44,
   "metadata": {},
   "outputs": [
    {
     "name": "stdout",
     "output_type": "stream",
     "text": [
      "00\n",
      "01\n",
      "02\n",
      "03\n",
      "10\n",
      "11\n",
      "12\n",
      "13\n",
      "20\n",
      "21\n",
      "22\n",
      "23\n",
      "30\n",
      "31\n",
      "32\n",
      "33\n",
      "total 16\n",
      "\n"
     ]
    }
   ],
   "source": [
    "count = 0\n",
    "\n",
    "for p in itertools.product(\"0123\", repeat=2):\n",
    "    print(''.join(p))\n",
    "    count = count + 1\n",
    "print(\"total\", count)\n",
    "print()"
   ]
  },
  {
   "cell_type": "code",
   "execution_count": 46,
   "metadata": {},
   "outputs": [
    {
     "name": "stdout",
     "output_type": "stream",
     "text": [
      "01\n",
      "02\n",
      "03\n",
      "10\n",
      "12\n",
      "13\n",
      "20\n",
      "21\n",
      "23\n",
      "30\n",
      "31\n",
      "32\n",
      "total permutations:  12\n",
      "\n"
     ]
    }
   ],
   "source": [
    "#2 Перестановки\n",
    "count = 0\n",
    "\n",
    "for p in itertools.permutations(\"0123\",2):\n",
    "    print(\"\".join(str(x) for x in p))\n",
    "    count = count + 1\n",
    "print(\"total permutations: \", count)\n",
    "print()"
   ]
  },
  {
   "cell_type": "code",
   "execution_count": 47,
   "metadata": {},
   "outputs": [
    {
     "name": "stdout",
     "output_type": "stream",
     "text": [
      "012\n",
      "013\n",
      "023\n",
      "123\n",
      "total combinations: 4\n"
     ]
    }
   ],
   "source": [
    "#3 Комбинации\n",
    "count = 0\n",
    "for p in itertools.combinations(\"0123\",3):\n",
    "    print(''.join(str(x) for x in p))\n",
    "    count = count + 1\n",
    "print(\"total combinations:\", count)"
   ]
  },
  {
   "cell_type": "code",
   "execution_count": 48,
   "metadata": {},
   "outputs": [
    {
     "name": "stdout",
     "output_type": "stream",
     "text": [
      "012\n",
      "013\n",
      "023\n",
      "123\n",
      "total combinations: 4\n"
     ]
    }
   ],
   "source": [
    "#3 Комбинации\n",
    "count = 0\n",
    "for p in itertools.combinations(\"0123\",3):\n",
    "    print(''.join(str(x) for x in p))\n",
    "    count = count + 1\n",
    "print(\"total combinations:\", count)"
   ]
  },
  {
   "cell_type": "markdown",
   "metadata": {},
   "source": [
    "### 5. Дополните код расчетом коэффициента корреляции x и y по формуле"
   ]
  },
  {
   "cell_type": "code",
   "execution_count": 61,
   "metadata": {},
   "outputs": [
    {
     "name": "stdout",
     "output_type": "stream",
     "text": [
      "a, b по формуле для линейной регрессии: 0.689473513766127 0.15565950596161046\n",
      "----------------------------------------------------------------------------------------------------\n",
      "a, b по встроенной библиотеке: 0.6894735137661262 0.15565950596161077\n",
      "----------------------------------------------------------------------------------------------------\n",
      "Коэф корреляции по встроенной библиотеке: [[1.         0.92941751]\n",
      " [0.92941751 1.        ]]\n",
      "x, y средние: 0.46842699227330803 0.47862751026718653\n",
      "----------------------------------------------------------------------------------------------------\n",
      "Коэф корреляции по формуле: 0.9294175050539834\n"
     ]
    },
    {
     "data": {
      "image/png": "[encoded data removed]",
      "text/plain": [
       "<Figure size 432x288 with 1 Axes>"
      ]
     },
     "metadata": {
      "needs_background": "light"
     },
     "output_type": "display_data"
    }
   ],
   "source": [
    "n = 100\n",
    "r = 0.7\n",
    "x = np.random.rand(n)\n",
    "y = r*x + (1 - r)*np.random.rand(n)\n",
    "plt.plot(x,y,'o')\n",
    "plt.xlabel('x')\n",
    "plt.ylabel('y')\n",
    "plt.grid(True)\n",
    "\n",
    "a = (np.sum(x)*np.sum(y) - n*np.sum(x*y))/(np.sum(x)*np.sum(x) - n*np.sum(x*x))\n",
    "b = (np.sum(y) - a*np.sum(x))/n\n",
    "\n",
    "A = np.vstack([x, np.ones(len(x))]).T\n",
    "a1, b1 = np.linalg.lstsq(A, y)[0]\n",
    "\n",
    "print(\"a, b по формуле для линейной регрессии:\",a,b)\n",
    "print(('-')*100)\n",
    "print(\"a, b по встроенной библиотеке:\",a1, b1)\n",
    "c = np.corrcoef(x, y)\n",
    "print(('-')*100)\n",
    "print(\"Коэф корреляции по встроенной библиотеке:\", c)\n",
    "\n",
    "# ​ Дополните код расчетом коэффициента корреляции ​ x ​ и ​ y ​ по формуле\n",
    "# найдем средние значения\n",
    "\n",
    "x_avg = np.average(x)\n",
    "y_avg = np.average(y)\n",
    "print(\"x, y средние:\",x_avg, y_avg)\n",
    "print(('-')*100)\n",
    "R = np.sum((x - x_avg)*(y - y_avg)) / (np.sum((x-x_avg)**2)*(np.sum((y-y_avg)**2)))**0.5\n",
    "print(\"Коэф корреляции по формуле:\", R)\n",
    "plt.plot([0, 1], [b, a + b])\n",
    "plt.show()"
   ]
  },
  {
   "cell_type": "code",
   "execution_count": null,
   "metadata": {},
   "outputs": [],
   "source": []
  }
 ],
 "metadata": {
  "kernelspec": {
   "display_name": "Python 3",
   "language": "python",
   "name": "python3"
  },
  "language_info": {
   "codemirror_mode": {
    "name": "ipython",
    "version": 3
   },
   "file_extension": ".py",
   "mimetype": "text/x-python",
   "name": "python",
   "nbconvert_exporter": "python",
   "pygments_lexer": "ipython3",
   "version": "3.7.6"
  }
 },
 "nbformat": 4,
 "nbformat_minor": 4
}
